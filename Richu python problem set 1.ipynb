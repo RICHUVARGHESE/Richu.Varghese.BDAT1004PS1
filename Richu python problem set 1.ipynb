{
 "cells": [
  {
   "cell_type": "markdown",
   "id": "c8f3f8a0",
   "metadata": {},
   "source": [
    "# Question:6"
   ]
  },
  {
   "cell_type": "code",
   "execution_count": 157,
   "id": "aee579d9",
   "metadata": {},
   "outputs": [
    {
     "name": "stdout",
     "output_type": "stream",
     "text": [
      "appyhay\n"
     ]
    }
   ],
   "source": [
    "def pig(x):\n",
    "  txt = x.split()\n",
    "  pigged_x = []\n",
    "\n",
    "  for val in txt:\n",
    "    val = val[1:] + val[0] + 'ay'\n",
    "    pigged_x.append(val)\n",
    "\n",
    "  return ' '.join(pigged_x)\n",
    "\n",
    "print(pig(\"happy\"))"
   ]
  },
  {
   "cell_type": "markdown",
   "id": "fcb6c9b3",
   "metadata": {},
   "source": [
    "# Question:7"
   ]
  },
  {
   "cell_type": "code",
   "execution_count": 158,
   "id": "1fcc5e0a",
   "metadata": {},
   "outputs": [],
   "source": [
    "def bldcount(f):\n",
    "        f= open(r'C:\\Users\\sarat\\pp.txt')\n",
    "        \n",
    "        lines=f.read().split()\n",
    "        print(lines)\n",
    "        count_A,count_B,count_AB,count_O,count_OO =0,0,0,0,0\n",
    "        for i in lines:\n",
    "                if i =='A':\n",
    "                    count_A+=1\n",
    "                elif i=='B':\n",
    "                    count_B+=1\n",
    "                elif i=='AB':\n",
    "                    count_AB+=1\n",
    "                elif i=='O':\n",
    "                     count_O+=1\n",
    "                else:\n",
    "                    count_OO+=1\n",
    "        print(\"There are\",count_A,\"patients of blood type A\")\n",
    "        print(\"There are\", count_B,\"patients of blood type B\")\n",
    "        print(\"There are\", count_AB,\"patients of blood type AB\")\n",
    "        print(\"There are\", count_O,\"patients of blood type O\")\n",
    "        print(\"There are\", count_OO,\"patients of blood type OO\")\n",
    "\n",
    "  \n",
    "    \n",
    "\n"
   ]
  },
  {
   "cell_type": "markdown",
   "id": "203cd6bb",
   "metadata": {},
   "source": [
    "# Answer"
   ]
  },
  {
   "cell_type": "code",
   "execution_count": 143,
   "id": "034a3232",
   "metadata": {},
   "outputs": [
    {
     "name": "stdout",
     "output_type": "stream",
     "text": [
      "['AB', 'AB', 'B', 'O', 'A', 'A', 'AB', 'O', 'AB', 'A', 'O', 'O', 'A', 'A', 'A', 'O', 'O', 'O', 'AB', 'O', 'A', 'A', 'A', 'A', 'A', 'AB', 'AB', 'A', 'AB', 'O', 'AB', 'O', 'A', 'O', 'O', 'O', 'AB', 'O', 'AB', 'AB', 'AB', 'A', 'A', 'O']\n",
      "There are 15 patients of blood type A\n",
      "There are 1 patients of blood type B\n",
      "There are 13 patients of blood type AB\n",
      "There are 15 patients of blood type O\n",
      "There are 0 patients of blood type OO\n"
     ]
    }
   ],
   "source": [
    "bldcount(r'C:\\Users\\sarat\\pp.txt')"
   ]
  },
  {
   "cell_type": "markdown",
   "id": "ff819dd3",
   "metadata": {},
   "source": [
    "# Question:8"
   ]
  },
  {
   "cell_type": "code",
   "execution_count": 155,
   "id": "e49de54d",
   "metadata": {},
   "outputs": [],
   "source": [
    "def converter(currency,amount):\n",
    "    f = open(r'C:\\Users\\sarat\\currency.txt')\n",
    "    g=f.readlines()\n",
    "    list1=[]\n",
    "    list2=[]\n",
    "    list3=[]\n",
    "    f.close()\n",
    "    for i in g:\n",
    "        j=0\n",
    "        k=i.split('\\t')\n",
    "        for j in range(len(k)-2):\n",
    "            list1.append(k[j])\n",
    "            list2.append(float(k[j+1]))\n",
    "            list3.append(k[j+2].strip())\n",
    "    h=list1.index(currency)\n",
    "    return amount*list2[h]\n"
   ]
  },
  {
   "cell_type": "markdown",
   "id": "fee4041a",
   "metadata": {},
   "source": [
    "# Answer"
   ]
  },
  {
   "cell_type": "code",
   "execution_count": 156,
   "id": "0ac1c625",
   "metadata": {},
   "outputs": [
    {
     "data": {
      "text/plain": [
       "103.45157"
      ]
     },
     "execution_count": 156,
     "metadata": {},
     "output_type": "execute_result"
    }
   ],
   "source": [
    "converter(\"AUD\",100)"
   ]
  },
  {
   "cell_type": "markdown",
   "id": "24a88f5a",
   "metadata": {},
   "source": [
    "# Question 9"
   ]
  },
  {
   "cell_type": "markdown",
   "id": "4541789e",
   "metadata": {},
   "source": [
    "There will be an exception for each of the following (an error). What kind of exception will each one cause?\n",
    "\n",
    "1. Attempting to add variables that are not supported, such as adding 6 + \"a\" as an answer.\n",
    "2. Referring to the twelfth item on a list of ten items. response) Out of index \n",
    "3. Using a number outside of a function's acceptable range, such as by using math.sqrt(-1.0) answer)domain error\n",
    "4. Making use of an undeclared variable, such as print(x), while x has not been defined answer)Variable not defined \n",
    "5. Attempting to open a file that doesn't exist, either due to a typo or a misdirected search. (Sorry, no such dictionary was found."
   ]
  },
  {
   "cell_type": "markdown",
   "id": "5cf56aa3",
   "metadata": {},
   "source": [
    "# Question 10"
   ]
  },
  {
   "cell_type": "code",
   "execution_count": 100,
   "id": "46816c35",
   "metadata": {},
   "outputs": [
    {
     "name": "stdout",
     "output_type": "stream",
     "text": [
      "[1, 0, 0, 0, 0, 0, 0, 0, 0, 0, 0, 0, 0, 0, 0, 0, 0, 0, 0, 0, 0, 0, 0, 0, 0, 0]\n",
      "[1, 1, 0, 0, 0, 0, 0, 0, 0, 0, 0, 0, 0, 0, 0, 0, 0, 0, 0, 0, 0, 0, 0, 0, 0, 0]\n",
      "[1, 1, 1, 0, 0, 0, 0, 0, 0, 0, 0, 0, 0, 0, 0, 0, 0, 0, 0, 0, 0, 0, 0, 0, 0, 0]\n",
      "[1, 1, 1, 1, 0, 0, 0, 0, 0, 0, 0, 0, 0, 0, 0, 0, 0, 0, 0, 0, 0, 0, 0, 0, 0, 0]\n",
      "[1, 1, 1, 1, 1, 0, 0, 0, 0, 0, 0, 0, 0, 0, 0, 0, 0, 0, 0, 0, 0, 0, 0, 0, 0, 0]\n",
      "[1, 1, 1, 1, 1, 1, 0, 0, 0, 0, 0, 0, 0, 0, 0, 0, 0, 0, 0, 0, 0, 0, 0, 0, 0, 0]\n",
      "[1, 1, 1, 1, 1, 1, 1, 0, 0, 0, 0, 0, 0, 0, 0, 0, 0, 0, 0, 0, 0, 0, 0, 0, 0, 0]\n",
      "[1, 1, 1, 1, 1, 1, 1, 1, 0, 0, 0, 0, 0, 0, 0, 0, 0, 0, 0, 0, 0, 0, 0, 0, 0, 0]\n",
      "[1, 1, 1, 1, 1, 1, 1, 1, 1, 0, 0, 0, 0, 0, 0, 0, 0, 0, 0, 0, 0, 0, 0, 0, 0, 0]\n",
      "[1, 1, 1, 1, 1, 1, 1, 1, 1, 1, 0, 0, 0, 0, 0, 0, 0, 0, 0, 0, 0, 0, 0, 0, 0, 0]\n",
      "[1, 1, 1, 1, 1, 1, 1, 1, 1, 1, 1, 0, 0, 0, 0, 0, 0, 0, 0, 0, 0, 0, 0, 0, 0, 0]\n",
      "[1, 1, 1, 1, 1, 1, 1, 1, 1, 1, 1, 1, 0, 0, 0, 0, 0, 0, 0, 0, 0, 0, 0, 0, 0, 0]\n",
      "[1, 1, 1, 1, 1, 1, 1, 1, 1, 1, 1, 1, 1, 0, 0, 0, 0, 0, 0, 0, 0, 0, 0, 0, 0, 0]\n",
      "[1, 1, 1, 1, 1, 1, 1, 1, 1, 1, 1, 1, 1, 1, 0, 0, 0, 0, 0, 0, 0, 0, 0, 0, 0, 0]\n",
      "[1, 1, 1, 1, 1, 1, 1, 1, 1, 1, 1, 1, 1, 1, 1, 0, 0, 0, 0, 0, 0, 0, 0, 0, 0, 0]\n",
      "[1, 1, 1, 1, 1, 1, 1, 1, 1, 1, 1, 1, 1, 1, 1, 1, 0, 0, 0, 0, 0, 0, 0, 0, 0, 0]\n",
      "[1, 1, 1, 1, 1, 1, 1, 1, 1, 1, 1, 1, 1, 1, 1, 1, 1, 0, 0, 0, 0, 0, 0, 0, 0, 0]\n",
      "[1, 1, 1, 1, 1, 1, 1, 1, 1, 1, 1, 1, 1, 1, 1, 1, 1, 1, 0, 0, 0, 0, 0, 0, 0, 0]\n",
      "[1, 1, 1, 1, 1, 1, 1, 1, 1, 1, 1, 1, 1, 1, 1, 1, 1, 1, 1, 0, 0, 0, 0, 0, 0, 0]\n",
      "[1, 1, 1, 1, 1, 1, 1, 1, 1, 1, 1, 1, 1, 1, 1, 1, 1, 1, 1, 1, 0, 0, 0, 0, 0, 0]\n",
      "[1, 1, 1, 1, 1, 1, 1, 1, 1, 1, 1, 1, 1, 1, 1, 1, 1, 1, 1, 1, 1, 0, 0, 0, 0, 0]\n",
      "[1, 1, 1, 1, 1, 1, 1, 1, 1, 1, 1, 1, 1, 1, 1, 1, 1, 1, 1, 1, 1, 1, 0, 0, 0, 0]\n",
      "[1, 1, 1, 1, 1, 1, 1, 1, 1, 1, 1, 1, 1, 1, 1, 1, 1, 1, 1, 1, 1, 1, 1, 0, 0, 0]\n",
      "[1, 1, 1, 1, 1, 1, 1, 1, 1, 1, 1, 1, 1, 1, 1, 1, 1, 1, 1, 1, 1, 1, 1, 1, 0, 0]\n",
      "[1, 1, 1, 1, 1, 1, 1, 1, 1, 1, 1, 1, 1, 1, 1, 1, 1, 1, 1, 1, 1, 1, 1, 1, 1, 0]\n",
      "[1, 1, 1, 1, 1, 1, 1, 1, 1, 1, 1, 1, 1, 1, 1, 1, 1, 1, 1, 1, 1, 1, 1, 1, 1, 1]\n"
     ]
    }
   ],
   "source": [
    "words = ('a','b','c','d','e','f','g','h','i','j','k','l','m','n','o','p','q','r','s','t','u','v','w','x','y','z')\n",
    "total_characters = []\n",
    "alpha_dict = {}\n",
    "  \n",
    "for word in words:\n",
    "    for char in word:\n",
    "        if char.isalpha():\n",
    "            total_characters.append(char)\n",
    "    \n",
    "        for char in alphabets:\n",
    "            if char in total_characters:\n",
    "                alpha_dict[char] = total_characters.count(char)\n",
    "            else:\n",
    "                alpha_dict[char] = 0\n",
    "            \n",
    "    \n",
    "    print(list(alpha_dict.values()))\n"
   ]
  },
  {
   "cell_type": "markdown",
   "id": "a3311a0a",
   "metadata": {},
   "source": []
  },
  {
   "cell_type": "code",
   "execution_count": null,
   "id": "65408ba0",
   "metadata": {},
   "outputs": [],
   "source": []
  },
  {
   "cell_type": "code",
   "execution_count": null,
   "id": "c2426a07",
   "metadata": {},
   "outputs": [],
   "source": []
  }
 ],
 "metadata": {
  "kernelspec": {
   "display_name": "Python 3 (ipykernel)",
   "language": "python",
   "name": "python3"
  },
  "language_info": {
   "codemirror_mode": {
    "name": "ipython",
    "version": 3
   },
   "file_extension": ".py",
   "mimetype": "text/x-python",
   "name": "python",
   "nbconvert_exporter": "python",
   "pygments_lexer": "ipython3",
   "version": "3.9.12"
  }
 },
 "nbformat": 4,
 "nbformat_minor": 5
}
