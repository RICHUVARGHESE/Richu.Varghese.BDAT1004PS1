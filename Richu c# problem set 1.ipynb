{
 "cells": [
  {
   "cell_type": "markdown",
   "id": "dac62d3a",
   "metadata": {},
   "source": [
    "# Problem set 1"
   ]
  },
  {
   "cell_type": "markdown",
   "id": "5a9fe9c0",
   "metadata": {},
   "source": [
    "# Question 1"
   ]
  },
  {
   "cell_type": "markdown",
   "id": "a8df2d97",
   "metadata": {},
   "source": [
    "5 is an Integer whole number\n",
    "5.0 is a floating point number\n",
    "5 > 1 is a Relational operator\n",
    "'5' is a string\n",
    "5 * 2 is Arithmetic operator\n",
    "'5・2\n",
    "'5' + '2'is a string\n",
    "5 / 2 is Arithmetic operator\n",
    "5 % 2 is an Arithmetic Operator (5, 2, 1) Array\n",
    "5 == 3 is relational operators\n",
    "Pi (the number) -Logical operators"
   ]
  },
  {
   "cell_type": "markdown",
   "id": "ab5e6faa",
   "metadata": {},
   "source": [
    "# Question 2"
   ]
  },
  {
   "cell_type": "code",
   "execution_count": 15,
   "id": "2841ee3d",
   "metadata": {},
   "outputs": [
    {
     "name": "stdout",
     "output_type": "stream",
     "text": [
      "Number of words in the string = 34\n",
      "does the string contain specified word: True\n"
     ]
    }
   ],
   "source": [
    "\n",
    "\n",
    "//2.a\n",
    "        \n",
    "        string str = \"Supercalifragilisticexpialidocious\";\n",
    "        string v=\"ice\";\n",
    "        int l = str.Length;\n",
    "        Console.Write(\"Number of words in the string = {0}\\n\", l);\n",
    "\n",
    " //2.b\n",
    "         Boolean i=str.Contains(v);\n",
    "         Console.Write(\"does the string contain specified word: {0}\\n\", i);\n",
    "\n",
    "\n",
    "    "
   ]
  },
  {
   "cell_type": "raw",
   "id": "a1d5ac88",
   "metadata": {},
   "source": [
    "//2.c"
   ]
  },
  {
   "cell_type": "code",
   "execution_count": 28,
   "id": "9332bdd4",
   "metadata": {},
   "outputs": [
    {
     "name": "stdout",
     "output_type": "stream",
     "text": [
      "string Bababadalgharaghtakamminarronnkonn is longer"
     ]
    }
   ],
   "source": [
    "string str = \"Supercalifragilisticexpialidocious\";\n",
    "string stp = \"Honorificabilitudinitatibus\";\n",
    "string stw = \"Bababadalgharaghtakamminarronnkonn\";\n",
    "int l = str.Length;\n",
    "int r = stp.Length;\n",
    "int s = stw.Length;\n",
    "\n",
    "if(l>r && l>s )\n",
    "{\n",
    "  Console.Write($\"string {str} is longer\" );\n",
    "}   \n",
    "else if(r>1 && r>s)\n",
    "        \n",
    "    {\n",
    "        Console.Write($\"string {stp} is longer\" );\n",
    "    }\n",
    "\n",
    "\n",
    "else{\n",
    "    Console.Write($\"string {stw} is longer\" );\n",
    "}\n",
    "    \n",
    "   \n",
    "\n",
    "\n"
   ]
  },
  {
   "cell_type": "code",
   "execution_count": null,
   "id": "5255d4a5",
   "metadata": {},
   "outputs": [],
   "source": [
    "\n"
   ]
  },
  {
   "cell_type": "markdown",
   "id": "e615c528",
   "metadata": {},
   "source": [
    "# Question:3\n",
    "\n"
   ]
  },
  {
   "cell_type": "code",
   "execution_count": 34,
   "id": "a773303e",
   "metadata": {},
   "outputs": [
    {
     "name": "stdout",
     "output_type": "stream",
     "text": [
      "Area of tirangle:68.22756041366274"
     ]
    }
   ],
   "source": [
    "\n",
    "        \n",
    "        string a = \"12\";\n",
    "        \n",
    "        string b = \"14\";\n",
    "        \n",
    "        string c = \"12\";\n",
    "\n",
    "        double a1=Convert.ToDouble(a);\n",
    "        double b1 = Convert.ToDouble(b);\n",
    "        double c1 = Convert.ToDouble(c);\n",
    "\n",
    "        double s = Convert.ToDouble((a1 + b1 + c1) / 2);\n",
    "        double v = s - a1;\n",
    "        double x = s - b1;\n",
    "        double z = s - c1;\n",
    "\n",
    "        double area = Math.Sqrt(s*v*x*z);\n",
    "        Console.Write($\"Area of tirangle:{area}\");\n",
    "    \n"
   ]
  },
  {
   "cell_type": "markdown",
   "id": "01f6ffcd",
   "metadata": {},
   "source": [
    "# Question 4"
   ]
  },
  {
   "cell_type": "code",
   "execution_count": 41,
   "id": "d2a25f35",
   "metadata": {},
   "outputs": [
    {
     "name": "stdout",
     "output_type": "stream",
     "text": [
      "Even numbers...\n",
      "42\n",
      "56\n",
      "32\n",
      "Odd numbers...\n",
      "25\n",
      "47\n"
     ]
    }
   ],
   "source": [
    " \n",
    "        \n",
    "            int[] arr1 = new int[] {\n",
    "            25,\n",
    "            47,\n",
    "            42,\n",
    "            56,\n",
    "            32\n",
    "         };\n",
    "            int[] arr2 = new int[5];\n",
    "            int[] arr3 = new int[5];\n",
    "            int i, j = 0, k = 0;\n",
    "            for (i = 0; i < 5; i++)\n",
    "            {\n",
    "                if (arr1[i] % 2 == 0)\n",
    "                {\n",
    "                    arr2[j] = arr1[i];\n",
    "                    j++;\n",
    "                }\n",
    "                else\n",
    "                {\n",
    "                    arr3[k] = arr1[i];\n",
    "                    k++;\n",
    "                }\n",
    "            }\n",
    "            Console.WriteLine(\"Even numbers...\");\n",
    "            for (i = 0; i < j; i++)\n",
    "            {\n",
    "                Console.WriteLine(arr2[i]);\n",
    "            }\n",
    "            Console.WriteLine(\"Odd numbers...\");\n",
    "            for (i = 0; i < k; i++)\n",
    "            {\n",
    "                Console.WriteLine(arr3[i]);\n",
    "            }\n",
    "        \n",
    "    \n"
   ]
  },
  {
   "cell_type": "markdown",
   "id": "8253b2c7",
   "metadata": {},
   "source": []
  },
  {
   "cell_type": "code",
   "execution_count": null,
   "id": "8c64816a",
   "metadata": {},
   "outputs": [],
   "source": [
    "\n"
   ]
  },
  {
   "cell_type": "code",
   "execution_count": null,
   "id": "e11bc285",
   "metadata": {},
   "outputs": [],
   "source": []
  },
  {
   "cell_type": "code",
   "execution_count": null,
   "id": "6672b7ab",
   "metadata": {},
   "outputs": [],
   "source": []
  }
 ],
 "metadata": {
  "kernelspec": {
   "display_name": "Python 3 (ipykernel)",
   "language": "python",
   "name": "python3"
  },
  "language_info": {
   "codemirror_mode": {
    "name": "ipython",
    "version": 3
   },
   "file_extension": ".py",
   "mimetype": "text/x-python",
   "name": "python",
   "nbconvert_exporter": "python",
   "pygments_lexer": "ipython3",
   "version": "3.9.12"
  }
 },
 "nbformat": 4,
 "nbformat_minor": 5
}
